{
 "cells": [
  {
   "cell_type": "markdown",
   "id": "616461e8",
   "metadata": {},
   "source": [
    "# 4. 텍스트"
   ]
  },
  {
   "cell_type": "markdown",
   "id": "e8b5f38d",
   "metadata": {},
   "source": [
    "## OpenCV 에서 사용하는 글꼴 종류\n",
    "1. cv2.FONT_HERSHEY_SIMPLEX : 보통 크기의 산 세리프(sans-serif) 글꼴\n",
    "1. cv2.FONT_HERSHEY_PLAIN : 작은 크기의 산 세리프 글꼴\n",
    "1. cv2.FONT_HERSHEY_SCRIPT_SIMPLEX : 필기체 스타일 글꼴\n",
    "1. cv2.FONT_HERSHEY_TRIPLEX : 보통 크기의 세리프 글꼴\n",
    "1. cv2.FONT_ITALIC : 기울임(이탤릭체)"
   ]
  },
  {
   "cell_type": "code",
   "execution_count": 13,
   "id": "9b263c1a",
   "metadata": {},
   "outputs": [],
   "source": [
    "import numpy as np\n",
    "import cv2\n",
    "\n",
    "img = np.zeros((480, 640, 3), dtype=np.uint8)\n",
    "\n",
    "SCALE = 1 # 크기\n",
    "COLOR = (255, 255, 255) # 흰색\n",
    "THICKNESS = 2\n",
    "\n",
    "# 그릴 위치, 텍스트 내용, 시작 위치, 폰트 종류, 크기, 색, 두께\n",
    "cv2.putText(img, \"Ruirun Simplex\", (20, 50), cv2.FONT_HERSHEY_SIMPLEX, SCALE, COLOR, THICKNESS)\n",
    "cv2.putText(img, \"Ruirun Plain\", (20, 150), cv2.FONT_HERSHEY_PLAIN, SCALE, COLOR, THICKNESS)\n",
    "cv2.putText(img, \"Ruirun Script_Simplex\", (20, 250), cv2.FONT_HERSHEY_SCRIPT_SIMPLEX, SCALE, COLOR, THICKNESS)\n",
    "cv2.putText(img, \"Ruirun Triplex\", (20, 350), cv2.FONT_HERSHEY_TRIPLEX, SCALE, COLOR, THICKNESS)\n",
    "cv2.putText(img, \"Ruirun Italic\", (20, 450), cv2.FONT_HERSHEY_TRIPLEX | cv2.FONT_ITALIC, SCALE, COLOR, THICKNESS)\n",
    "\n",
    "cv2.imshow('img', img)\n",
    "cv2.waitKey(0)\n",
    "cv2.destroyAllWindows()"
   ]
  },
  {
   "cell_type": "markdown",
   "id": "85b47a54",
   "metadata": {},
   "source": [
    "## 한글"
   ]
  },
  {
   "cell_type": "code",
   "execution_count": 14,
   "id": "42356b88",
   "metadata": {},
   "outputs": [],
   "source": [
    "import numpy as np\n",
    "import cv2\n",
    "\n",
    "img = np.zeros((480, 640, 3), dtype=np.uint8)\n",
    "\n",
    "SCALE = 1 # 크기\n",
    "COLOR = (255, 255, 255) # 흰색\n",
    "THICKNESS = 2\n",
    "\n",
    "# 그릴 위치, 텍스트 내용, 시작 위치, 폰트 종류, 크기, 색, 두께\n",
    "cv2.putText(img, \"서윤\", (20, 50), cv2.FONT_HERSHEY_SIMPLEX, SCALE, COLOR, THICKNESS)\n",
    "\n",
    "cv2.imshow('img', img)\n",
    "cv2.waitKey(0)\n",
    "cv2.destroyAllWindows()"
   ]
  },
  {
   "cell_type": "markdown",
   "id": "9f1abd48",
   "metadata": {},
   "source": [
    "## 한글"
   ]
  },
  {
   "cell_type": "code",
   "execution_count": 15,
   "id": "fb586472",
   "metadata": {},
   "outputs": [],
   "source": [
    "import numpy as np\n",
    "import cv2\n",
    "\n",
    "img = np.zeros((480, 640, 3), dtype=np.uint8)\n",
    "\n",
    "SCALE = 1 # 크기\n",
    "COLOR = (255, 255, 255) # 흰색\n",
    "THICKNESS = 2\n",
    "\n",
    "# 그릴 위치, 텍스트 내용, 시작 위치, 폰트 종류, 크기, 색, 두께\n",
    "cv2.putText(img, \"서윤\", (20, 50), cv2.FONT_HERSHEY_SIMPLEX, SCALE, COLOR, THICKNESS)\n",
    "\n",
    "cv2.imshow('img', img)\n",
    "cv2.waitKey(0)\n",
    "cv2.destroyAllWindows()"
   ]
  },
  {
   "cell_type": "markdown",
   "id": "ab23dd63",
   "metadata": {},
   "source": [
    "## 한글 우회 방법"
   ]
  },
  {
   "cell_type": "code",
   "execution_count": 17,
   "id": "acbf4cc3",
   "metadata": {},
   "outputs": [],
   "source": [
    "import numpy as np\n",
    "import cv2\n",
    "# PIL (Python Image Library)\n",
    "from PIL import ImageFont, ImageDraw, Image\n",
    "\n",
    "def myPutText(src, text, pos, font_size, font_color):\n",
    "    img_pil = Image.fromarray(src)\n",
    "    draw = ImageDraw.Draw(img_pil)\n",
    "    font = ImageFont.truetype('fonts/gulim.ttc', font_size)\n",
    "    draw.text(pos, text, font=font, fill=font_color)\n",
    "    return np.array(img_pil)\n",
    "\n",
    "img = np.zeros((480, 640, 3), dtype=np.uint8)\n",
    "\n",
    "FONT_SIZE = 30\n",
    "COLOR = (255, 255, 255) # 흰색\n",
    "\n",
    "img = myPutText(img, \"서윤\", (20, 50), FONT_SIZE, COLOR)\n",
    "\n",
    "cv2.imshow('img', img)\n",
    "cv2.waitKey(0)\n",
    "cv2.destroyAllWindows()"
   ]
  }
 ],
 "metadata": {
  "kernelspec": {
   "display_name": "Python 3 (ipykernel)",
   "language": "python",
   "name": "python3"
  },
  "language_info": {
   "codemirror_mode": {
    "name": "ipython",
    "version": 3
   },
   "file_extension": ".py",
   "mimetype": "text/x-python",
   "name": "python",
   "nbconvert_exporter": "python",
   "pygments_lexer": "ipython3",
   "version": "3.10.9"
  }
 },
 "nbformat": 4,
 "nbformat_minor": 5
}
